{
 "cells": [
  {
   "cell_type": "code",
   "execution_count": null,
   "id": "0bf8d4f8-ac50-4fb6-913f-7a210cafbfb7",
   "metadata": {},
   "outputs": [],
   "source": [
    "#1. What are the five key concepts of Object-Oriented Programming (OOP)?\n",
    "\"\"\"  Five Key Concepts of Object-Oriented Programming (OOP):\n",
    "Encapsulation: Bundling data and methods that work on that data within one unit or class.\n",
    "Inheritance: It refers to the process of child class receiving properties of parent class.\n",
    "Polymorphism: The ability to define methods in different ways for different objects.\n",
    "Abstraction: Hiding complex implementation details and showing only necessary features.\n",
    "Class & Object: Classes are blueprints, and objects are instances of those classes.\"\"\""
   ]
  },
  {
   "cell_type": "code",
   "execution_count": 37,
   "id": "d16dc4b8-a4fa-4481-bc5b-40deb2f586d4",
   "metadata": {},
   "outputs": [
    {
     "name": "stdout",
     "output_type": "stream",
     "text": [
      "Car: 2020 Mahindra XUV700\n"
     ]
    }
   ],
   "source": [
    "#2. Write a Python class for a `Car` with attributes for `make`, `model`, and `year`. Include a method to display the car's information.\n",
    "class Car:\n",
    "    def __init__(self, make, model, year):\n",
    "        self.make = make\n",
    "        self.model = model\n",
    "        self.year = year\n",
    "\n",
    "    def display_info(self):\n",
    "        print(f\"Car: {self.year} {self.make} {self.model}\")\n",
    "\n",
    "\n",
    "car = Car(\"Mahindra\", \"XUV700\", 2020)\n",
    "car.display_info() \n"
   ]
  },
  {
   "cell_type": "code",
   "execution_count": 3,
   "id": "1e3ce376-53e5-410c-910e-d616d0390c12",
   "metadata": {},
   "outputs": [
    {
     "name": "stdout",
     "output_type": "stream",
     "text": [
      "This is an instance method\n",
      "This is a class method\n"
     ]
    }
   ],
   "source": [
    "# 3. Explain the difference between instance methods and class methods. Provide an example of each.\n",
    "\"\"\"Ans)Instance Methods: They operate on an instance of the class. They can access the instance (using self) and the class (using cls).\n",
    "Class Methods: They operate on the class itself. They don’t require an instance to be called and are denoted by the @classmethod decorator.\"\"\"\n",
    "\n",
    "class Example:\n",
    "    def instance_method(self):\n",
    "        return \"This is an instance method\"\n",
    "    \n",
    "    @classmethod\n",
    "    def class_method(cls):\n",
    "        return \"This is a class method\"\n",
    "\n",
    "obj = Example()\n",
    "print(obj.instance_method()) \n",
    "print(Example.class_method())  \n"
   ]
  },
  {
   "cell_type": "code",
   "execution_count": 3,
   "id": "91f42252-7203-4ae7-8d79-a1cc3b546f25",
   "metadata": {},
   "outputs": [
    {
     "name": "stdout",
     "output_type": "stream",
     "text": [
      "5\n",
      "15\n"
     ]
    }
   ],
   "source": [
    "# 4. How does Python implement method overloading? Give an example.\n",
    "\"\"\"Ans) Python doesn’t support method overloading in the traditional sense. Instead, default arguments or variable-length arguments can be used.\"\"\"\n",
    "\n",
    "class OverloadExample:\n",
    "    def add(self, a, b=0):\n",
    "        return a + b\n",
    "\n",
    "obj = OverloadExample()\n",
    "print(obj.add(5))     \n",
    "print(obj.add(5, 10))    \n"
   ]
  },
  {
   "cell_type": "code",
   "execution_count": null,
   "id": "4325ecbf-efc1-4448-ac6d-0737ec334a1a",
   "metadata": {},
   "outputs": [],
   "source": [
    "# 5. What are the three types of access modifiers in Python? How are they denoted?\n",
    "\"\"\"Ans) Public: Attributes/methods are accessible everywhere. (No underscore prefix)\n",
    "Protected: Attributes/methods are accessible within the class and its subclasses. (_protected)\n",
    "Private: Attributes/methods are accessible only within the class. (__private) \"\"\""
   ]
  },
  {
   "cell_type": "code",
   "execution_count": 7,
   "id": "f3d06853-df39-447c-bc17-dd967ee378b7",
   "metadata": {},
   "outputs": [
    {
     "name": "stdout",
     "output_type": "stream",
     "text": [
      "Parent1 Method\n",
      "Parent2 Method\n"
     ]
    }
   ],
   "source": [
    "#  6. Describe the five types of inheritance in Python. Provide a simple example of multiple inheritance.\n",
    "\"\"\"Ans) Single Inheritance: One base class, one derived class.\n",
    "Multiple Inheritance: Inheriting from more than one base class.\n",
    "Multilevel Inheritance: Inheritance chain involving more than two classes.\n",
    "Hierarchical Inheritance: Multiple derived classes from the same base class.\n",
    "Hybrid Inheritance: A combination of more than one type of inheritance. \"\"\"\n",
    "\n",
    "class Parent1:\n",
    "    def method_parent1(self):\n",
    "        print(\"Parent1 Method\")\n",
    "\n",
    "class Parent2:\n",
    "    def method_parent2(self):\n",
    "        print(\"Parent2 Method\")\n",
    "\n",
    "class Child(Parent1, Parent2):\n",
    "    pass\n",
    "\n",
    "obj = Child()\n",
    "obj.method_parent1()  # Parent1 Method\n",
    "obj.method_parent2()  # Parent2 Method\n"
   ]
  },
  {
   "cell_type": "code",
   "execution_count": 9,
   "id": "fd749e8a-c57f-4458-ac10-7bba2e2d11e1",
   "metadata": {},
   "outputs": [
    {
     "name": "stdout",
     "output_type": "stream",
     "text": [
      "[<class '__main__.D'>, <class '__main__.B'>, <class '__main__.C'>, <class '__main__.A'>, <class 'object'>]\n"
     ]
    }
   ],
   "source": [
    "# 7. What is the Method Resolution Order (MRO) in Python? How can you retrieve it programmatically?\n",
    "\"\"\"Ans) The order in which methods should be inherited in the presence of multiple inheritance is called Method Resolution Order (MRO)\"\"\"\n",
    "\n",
    "class A:\n",
    "    pass\n",
    "class B(A): \n",
    "    pass\n",
    "class C(A): \n",
    "    pass\n",
    "class D(B, C):\n",
    "    pass\n",
    "\n",
    "# Get MRO\n",
    "print(D.mro())\n"
   ]
  },
  {
   "cell_type": "code",
   "execution_count": 35,
   "id": "9d7c434c-79f1-45dd-816c-55a6f4929c7c",
   "metadata": {},
   "outputs": [
    {
     "name": "stdout",
     "output_type": "stream",
     "text": [
      "Area: 314.15999999999997\n",
      "Area: 120\n"
     ]
    }
   ],
   "source": [
    "# 8. Create an abstract base class `Shape` with an abstract method `area()`. Then create two subclasses Circle` and `Rectangle` that implement the `area()` method.\n",
    "\n",
    "from abc import ABC , abstractmethod\n",
    "\n",
    "class Shape(ABC):\n",
    "    @abstractmethod\n",
    "    def area(self):\n",
    "        pass\n",
    "\n",
    "class Circle(Shape):\n",
    "    def __init__(self, radius):\n",
    "        self.radius = radius\n",
    "\n",
    "    def area(self):\n",
    "        return 3.1416 * self.radius ** 2\n",
    "\n",
    "class Rectangle(Shape):\n",
    "    def __init__(self, width, height):\n",
    "        self.width = width\n",
    "        self.height = height\n",
    "\n",
    "    def area(self):\n",
    "        return self.width * self.height\n",
    "\n",
    "# Example usage\n",
    "shapes = [Circle(10), Rectangle(10, 12)]\n",
    "for shape in shapes:\n",
    "    print(f\"Area: {shape.area()}\")\n"
   ]
  },
  {
   "cell_type": "code",
   "execution_count": 29,
   "id": "a6b2cb85-3af2-4361-a359-3b5c9424b34f",
   "metadata": {},
   "outputs": [
    {
     "name": "stdout",
     "output_type": "stream",
     "text": [
      "Area of the shape: 78.50 square units\n",
      "Area of the shape: 24.00 square units\n"
     ]
    }
   ],
   "source": [
    "# 9. Demonstrate polymorphism by creating a function that can work with different shape objects to calculate and print their areas.\n",
    "\n",
    "class Shape:\n",
    "    def calculate_area(self):\n",
    "        raise NotImplementedError(\"Subclasses must implement calculate_area()\")\n",
    "\n",
    "class Circle(Shape):\n",
    "    def __init__(self, radius):\n",
    "        self.radius = radius\n",
    "\n",
    "    def calculate_area(self):\n",
    "        return 3.14 * self.radius ** 2\n",
    "\n",
    "class Rectangle(Shape):\n",
    "    def __init__(self, length, width):\n",
    "        self.length = length\n",
    "        self.width = width\n",
    "\n",
    "    def calculate_area(self):\n",
    "        return self.length * self.width\n",
    "\n",
    "def print_area(shape):\n",
    "    try:\n",
    "        area = shape.calculate_area()\n",
    "        print(f\"Area of the shape: {area:.2f} square units\")\n",
    "    except NotImplementedError:\n",
    "        print(\"Error: Shape class must be subclassed and implement calculate_area()\")\n",
    "\n",
    "# Example usage\n",
    "circle = Circle(radius=5)\n",
    "rectangle = Rectangle(length=6, width=4)\n",
    "\n",
    "print_area(circle)  \n",
    "print_area(rectangle)  \n",
    "\n",
    "\n"
   ]
  },
  {
   "cell_type": "code",
   "execution_count": 27,
   "id": "e8b409af-18c2-43a9-b511-342aa01cadd1",
   "metadata": {},
   "outputs": [
    {
     "name": "stdout",
     "output_type": "stream",
     "text": [
      "17500\n"
     ]
    }
   ],
   "source": [
    "# 10. Implement encapsulation in a `BankAccount` class with private attributes for `balance` and `account_number`. Include methods for deposit, withdrawal, and balance inquiry.\n",
    "\n",
    "class BankAccount:\n",
    "    def __init__(self, account_number, balance=0):\n",
    "        self.__account_number = account_number  # Private attribute\n",
    "        self.__balance = balance                # Private attribute\n",
    "\n",
    "    def deposit(self, amount):\n",
    "        self.__balance += amount\n",
    "\n",
    "    def withdraw(self, amount):\n",
    "        if amount <= self.__balance:\n",
    "            self.__balance -= amount\n",
    "        else:\n",
    "            print(\"Insufficient funds\")\n",
    "\n",
    "    def get_balance(self):\n",
    "        return self.__balance\n",
    "\n",
    "\n",
    "account = BankAccount(\"987654321\", 20000)\n",
    "account.deposit(5000)\n",
    "account.withdraw(7500)\n",
    "print(account.get_balance()) \n",
    "\n"
   ]
  },
  {
   "cell_type": "code",
   "execution_count": 25,
   "id": "f5b679ea-3fc0-4ee7-9f09-ba1155ae3b2d",
   "metadata": {},
   "outputs": [
    {
     "name": "stdout",
     "output_type": "stream",
     "text": [
      "Number: 30\n"
     ]
    }
   ],
   "source": [
    "# 11. Write a class that overrides the `__str__` and `__add__` magic methods. What will these methods allow you to do?\n",
    "\n",
    "class Number:\n",
    "    def __init__(self, value):\n",
    "        self.value = value\n",
    "\n",
    "    def __str__(self):\n",
    "        return f\"Number: {self.value}\"\n",
    "\n",
    "    def __add__(self, other):\n",
    "        return Number(self.value + other.value)\n",
    "\n",
    "\n",
    "n1 = Number(10)\n",
    "n2 = Number(20)\n",
    "n3 = n1 + n2\n",
    "print(n3)   \n"
   ]
  },
  {
   "cell_type": "code",
   "execution_count": 19,
   "id": "1c0bed99-ecd0-4946-b4ff-9665a13b51bd",
   "metadata": {},
   "outputs": [
    {
     "name": "stdout",
     "output_type": "stream",
     "text": [
      "Execution time: 1.0016019344329834 seconds\n"
     ]
    }
   ],
   "source": [
    "# 12. Create a decorator that measures and prints the execution time of a function.\n",
    "\n",
    "import time\n",
    "\n",
    "def timer(func):\n",
    "    def wrapper(*args, **kwargs):\n",
    "        start_time = time.time()\n",
    "        result = func(*args, **kwargs)\n",
    "        end_time = time.time()\n",
    "        print(f\"Execution time: {end_time - start_time} seconds\")\n",
    "        return result\n",
    "    return wrapper\n",
    "\n",
    "@timer\n",
    "def example_function():\n",
    "    time.sleep(1)\n",
    "\n",
    "example_function() \n",
    "\n"
   ]
  },
  {
   "cell_type": "code",
   "execution_count": 21,
   "id": "90f31645-dc45-4db9-a25a-dc30e8e85ea6",
   "metadata": {},
   "outputs": [
    {
     "name": "stdout",
     "output_type": "stream",
     "text": [
      "A method\n",
      "[<class '__main__.D'>, <class '__main__.B'>, <class '__main__.C'>, <class '__main__.A'>, <class 'object'>]\n"
     ]
    }
   ],
   "source": [
    "# 13. Explain the concept of the Diamond Problem in multiple inheritance. How does Python resolve it?\n",
    "\n",
    "\"\"\" Ans) The Diamond Problem occurs when multiple inheritance leads to the same base class being inherited through different paths.\n",
    "Python resolves this through Method Resolution Order (MRO) using the C3 linearization algorithm.\"\"\"\n",
    "\n",
    "class A:\n",
    "    def method(self):\n",
    "        print(\"A method\")\n",
    "\n",
    "class B(A): pass\n",
    "class C(A): pass\n",
    "class D(B, C): pass\n",
    "\n",
    "d = D()\n",
    "d.method() \n",
    "print(D.mro())  \n",
    "\n"
   ]
  },
  {
   "cell_type": "code",
   "execution_count": 23,
   "id": "23eee804-6d9d-46a7-a255-347d0bd17028",
   "metadata": {},
   "outputs": [
    {
     "name": "stdout",
     "output_type": "stream",
     "text": [
      "2\n"
     ]
    }
   ],
   "source": [
    "#  14. Write a class method that keeps track of the number of instances created from a class.\n",
    "class InstanceCounter:\n",
    "    count = 0  # Class attribute\n",
    "\n",
    "    def __init__(self):\n",
    "        InstanceCounter.count += 1\n",
    "\n",
    "    @classmethod\n",
    "    def get_instance_count(cls):\n",
    "        return cls.count\n",
    "\n",
    "obj1 = InstanceCounter()\n",
    "obj2 = InstanceCounter()\n",
    "print(InstanceCounter.get_instance_count())\n",
    "\n"
   ]
  },
  {
   "cell_type": "code",
   "execution_count": 25,
   "id": "cb339f99-3e30-4b04-8769-6c499fb0cee7",
   "metadata": {},
   "outputs": [
    {
     "name": "stdout",
     "output_type": "stream",
     "text": [
      "True\n"
     ]
    }
   ],
   "source": [
    "#  15. Implement a static method in a class that checks if a given year is a leap year.\n",
    "\n",
    "class Year:\n",
    "    @staticmethod\n",
    "    def is_leap_year(year):\n",
    "        return year % 4 == 0 and (year % 100 != 0 or year % 400 == 0)\n",
    "\n",
    "# Example usage\n",
    "print(Year.is_leap_year(2024))"
   ]
  },
  {
   "cell_type": "code",
   "execution_count": null,
   "id": "e715bdc5-6d75-492c-9a8a-b921b5d18c3f",
   "metadata": {},
   "outputs": [],
   "source": []
  },
  {
   "cell_type": "code",
   "execution_count": null,
   "id": "ce74cd54-a6ac-478a-842a-833b18cc79f8",
   "metadata": {},
   "outputs": [],
   "source": []
  }
 ],
 "metadata": {
  "kernelspec": {
   "display_name": "Python 3 (ipykernel)",
   "language": "python",
   "name": "python3"
  },
  "language_info": {
   "codemirror_mode": {
    "name": "ipython",
    "version": 3
   },
   "file_extension": ".py",
   "mimetype": "text/x-python",
   "name": "python",
   "nbconvert_exporter": "python",
   "pygments_lexer": "ipython3",
   "version": "3.12.4"
  }
 },
 "nbformat": 4,
 "nbformat_minor": 5
}
